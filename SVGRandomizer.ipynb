{
 "cells": [
  {
   "cell_type": "markdown",
   "metadata": {},
   "source": [
    "Start of the SVG randomizer\n",
    "- change the name of the input file to the path of your file\n",
    "- chage the name of the output file to your preferred output file\n",
    "- be sure to add the .svg"
   ]
  },
  {
   "cell_type": "code",
   "execution_count": 15,
   "metadata": {},
   "outputs": [],
   "source": [
    "inputFile = '4948955_94190.svg'\n",
    "outputFile = \"outputImages/outputImage.svg\""
   ]
  },
  {
   "cell_type": "markdown",
   "metadata": {},
   "source": [
    "Modify the SVGRandomizer settings\n",
    "- imageSimiliarity - how similiar will the randomized image be to the original (if 0 the image will be very randomized, if 1 it will be slightly randomized )\n",
    "- imagePickProbability - what is the probability of modifying an object (1 = all objects will be modified, 0 = none will be modified)\n",
    "- modifyPosition - if True, the position of the svg objects will be changed\n",
    "- modifyRotation - if True, the rotation of the svg objects will be changed\n",
    "- modifySize - if True, the size of the svg objects will be changed"
   ]
  },
  {
   "cell_type": "code",
   "execution_count": 16,
   "metadata": {},
   "outputs": [],
   "source": [
    "imageSimiliarity = 0.5\n",
    "imagePickProbability = 0.7\n",
    "modifyPosition = True\n",
    "modifyRotation = True\n",
    "modifySize = True"
   ]
  },
  {
   "cell_type": "markdown",
   "metadata": {},
   "source": [
    "The main code\n",
    "\n",
    "Change the doNotModify function to include all elements that you wish to leave in the image (background, specific shapes,...)"
   ]
  },
  {
   "cell_type": "code",
   "execution_count": 1,
   "metadata": {},
   "outputs": [],
   "source": [
    "import xml.etree.ElementTree as ET\n",
    "import random\n",
    "from svglib.svglib import svg2rlg\n",
    "from numpy import interp"
   ]
  },
  {
   "cell_type": "code",
   "execution_count": 18,
   "metadata": {},
   "outputs": [],
   "source": [
    "def loadWidthAndHeight(inputFile):\n",
    "    drawing = svg2rlg(inputFile)\n",
    "    left, bottom, right, top = drawing.getBounds()\n",
    "    width = right - left\n",
    "    height = top - bottom\n",
    "    return width, height\n",
    "\n",
    "# based on imagePickProbability calculate whether to skip this object\n",
    "def pickObject():\n",
    "    random_number = random.uniform(0, 1)\n",
    "    return random_number <= imagePickProbability\n",
    "\n",
    "def changePosition(element, key, modification, dimension):\n",
    "    newKey = float(element.get(key)) + random.uniform(-modification, modification)\n",
    "    newKey = interp(newKey, [-modification, dimension + modification], [0, dimension])\n",
    "    element.set(key, str(newKey))\n",
    "\n",
    "\n",
    "def changeSize(element, key, modification, dimension):\n",
    "    newSize = float(element.get(key)) * random.uniform(1 - modification, 1 + modification)\n",
    "    newSize = interp(newSize, [0, dimension], [0, dimension])\n",
    "    element.set(key, str(newSize))\n",
    "\n",
    "# Randomize the position of the element\n",
    "def positionRandomize(element):\n",
    "    xModification = width * (1 - imageSimiliarity)\n",
    "    yModification = height * (1 - imageSimiliarity)\n",
    "    \n",
    "    # Check if the element is the one we want to modify\n",
    "    if 'circle' in element.tag or 'ellipse' in element.tag:\n",
    "        changePosition(element, 'cx', xModification, width)\n",
    "        changePosition(element, 'cy', yModification, height)\n",
    "\n",
    "    elif 'rect' in element.tag:\n",
    "        changePosition(element, 'x', xModification, width)\n",
    "        changePosition(element, 'y', yModification, height)\n",
    "\n",
    "    elif 'polygon' in element.tag or 'path' in element.tag:\n",
    "        translateX = random.uniform(-xModification, xModification)\n",
    "        translateY = random.uniform(-yModification, yModification)\n",
    "        element.set('transform', f\"translate({translateX}, {translateY})\")\n",
    "\n",
    "# Randomize the size of the element\n",
    "def resize(element):\n",
    "    newSize = random.uniform(0.5, 2)\n",
    "\n",
    "    if 'transform' in element.attrib:\n",
    "        element.set('transform', f\"{element.get('transform')} scale({newSize}, {newSize})\")\n",
    "    else:\n",
    "        element.set('transform', f\"scale({newSize}, {newSize})\")\n",
    "\n",
    "# Randomize the rotation of the element\n",
    "def rotationRandomize(element):\n",
    "    rotation = random.uniform(0, 360)\n",
    "    if 'transform' in element.attrib:\n",
    "        element.set('transform', f\"{element.get('transform')} rotate({rotation})\")\n",
    "    else:\n",
    "        element.set('transform', f\"rotate({rotation})\")\n",
    "\n",
    "# Add a specific code to skip some elements\n",
    "def DoNotModifyElement(element):\n",
    "    # Check if a rectangle spans the entire image\n",
    "    if 'rect' in element.tag:\n",
    "        x = float(element.get('x', 0)) - 10\n",
    "        y = float(element.get('y', 0)) - 10\n",
    "        currWidth = float(element.get('width', 0)) + 10\n",
    "        currHeight = float(element.get('height', 0)) + 10\n",
    "\n",
    "        return x <= 0 and y <= 0 and currWidth >= width and currHeight >= height\n",
    "    \n",
    "    elementTypes = ['circle', 'ellipse', 'rect', 'polygon', 'path']\n",
    "\n",
    "    for elementType in elementTypes:\n",
    "        if elementType in element.tag:\n",
    "            return False\n",
    "\n",
    "    return True\n",
    "\n",
    "\n",
    "def createSVGFile(inputFile, outputFile):\n",
    "    tree = ET.parse(inputFile)\n",
    "    svgRoot = tree.getroot()\n",
    "    global width\n",
    "    global height\n",
    "    width, height = loadWidthAndHeight(inputFile)\n",
    "\n",
    "    for element in svgRoot.iter():\n",
    "        if (DoNotModifyElement(element)):\n",
    "            continue\n",
    "    \n",
    "        if not pickObject():\n",
    "            continue\n",
    "\n",
    "        # pick for position change\n",
    "        if pickObject() and modifyPosition:\n",
    "            positionRandomize(element)\n",
    "        # pick for resize\n",
    "        if pickObject() and modifySize:\n",
    "            resize(element)\n",
    "        # pick for rotation\n",
    "        if pickObject() and modifyRotation:\n",
    "            rotationRandomize(element)\n",
    "\n",
    "    tree.write(outputFile)"
   ]
  },
  {
   "cell_type": "markdown",
   "metadata": {},
   "source": [
    "Run as many times as it takes to get the desired result"
   ]
  },
  {
   "cell_type": "code",
   "execution_count": 19,
   "metadata": {},
   "outputs": [
    {
     "name": "stderr",
     "output_type": "stream",
     "text": [
      "Can't handle color: url(#SVGID_00000071530416885814799660000003126532430961709719_)\n",
      "Can't handle color: url(#SVGID_00000021106390291901483470000007843655521468902295_)\n",
      "Can't handle color: url(#SVGID_00000175310995552267055940000002117978089571474362_)\n",
      "Can't handle color: url(#SVGID_00000072986363637420529810000007982279640269357724_)\n",
      "Can't handle color: url(#SVGID_00000085972388588799621580000012277644233808753551_)\n",
      "Can't handle color: url(#SVGID_00000067922890495641597320000002836514034130114206_)\n"
     ]
    }
   ],
   "source": [
    "createSVGFile(inputFile, outputFile)"
   ]
  }
 ],
 "metadata": {
  "kernelspec": {
   "display_name": "Python 3",
   "language": "python",
   "name": "python3"
  },
  "language_info": {
   "codemirror_mode": {
    "name": "ipython",
    "version": 3
   },
   "file_extension": ".py",
   "mimetype": "text/x-python",
   "name": "python",
   "nbconvert_exporter": "python",
   "pygments_lexer": "ipython3",
   "version": "3.10.11"
  }
 },
 "nbformat": 4,
 "nbformat_minor": 2
}
